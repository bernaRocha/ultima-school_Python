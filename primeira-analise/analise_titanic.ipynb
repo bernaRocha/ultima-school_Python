{
 "cells": [
  {
   "cell_type": "code",
   "execution_count": null,
   "id": "16ae9798",
   "metadata": {},
   "outputs": [],
   "source": [
    "import csv"
   ]
  },
  {
   "cell_type": "code",
   "execution_count": null,
   "id": "f307f2a6",
   "metadata": {
    "scrolled": false
   },
   "outputs": [],
   "source": [
    "with open('train_and_test2.csv', 'r') as arquivo:\n",
    "    dados = csv.reader(arquivo)\n",
    "    for x in dados:\n",
    "        colunas = len(x)\n",
    "        \n",
    "print(f'Número de colunas: {colunas}')"
   ]
  },
  {
   "cell_type": "code",
   "execution_count": null,
   "id": "66510953",
   "metadata": {},
   "outputs": [],
   "source": [
    "with open('train_and_test2.csv', 'r') as arquivo:\n",
    "    dados = csv.reader(arquivo)\n",
    "    lista_dados = list(dados)\n",
    "print(lista_dados)"
   ]
  }
 ],
 "metadata": {
  "kernelspec": {
   "display_name": "Python 3 (ipykernel)",
   "language": "python",
   "name": "python3"
  },
  "language_info": {
   "codemirror_mode": {
    "name": "ipython",
    "version": 3
   },
   "file_extension": ".py",
   "mimetype": "text/x-python",
   "name": "python",
   "nbconvert_exporter": "python",
   "pygments_lexer": "ipython3",
   "version": "3.8.10"
  }
 },
 "nbformat": 4,
 "nbformat_minor": 5
}
