{
 "cells": [
  {
   "cell_type": "code",
   "execution_count": 4,
   "id": "0d7d4dcf",
   "metadata": {},
   "outputs": [],
   "source": [
    "import turtle\n",
    "colors = ['red', 'blue', 'purple', 'green', 'orange', 'yellow']\n",
    "tom = turtle.Pen()\n",
    "turtle.bgcolor('white')\n",
    "for x in range(360):\n",
    "    tom.pencolor(colors[x % 6])\n",
    "    tom.width(x / 100 + 1)\n",
    "    tom.forward(x)\n",
    "    tom.left(59)"
   ]
  }
 ],
 "metadata": {
  "kernelspec": {
   "display_name": "Python 3.10.7 64-bit",
   "language": "python",
   "name": "python3"
  },
  "language_info": {
   "codemirror_mode": {
    "name": "ipython",
    "version": 3
   },
   "file_extension": ".py",
   "mimetype": "text/x-python",
   "name": "python",
   "nbconvert_exporter": "python",
   "pygments_lexer": "ipython3",
   "version": "3.10.7"
  },
  "vscode": {
   "interpreter": {
    "hash": "97cc609b13305c559618ec78a438abc56230b9381f827f22d070313b9a1f3777"
   }
  }
 },
 "nbformat": 4,
 "nbformat_minor": 5
}
