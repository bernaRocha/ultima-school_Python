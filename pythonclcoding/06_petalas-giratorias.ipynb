{
 "cells": [
  {
   "cell_type": "code",
   "execution_count": null,
   "id": "81c0d3a3",
   "metadata": {},
   "outputs": [],
   "source": [
    "import turtle\n",
    "t = turtle.Turtle()\n",
    "s = turtle.Screen()\n",
    "s.bgcolor('black')\n",
    "t.speed(-2)\n",
    "col=(\"yellow\",\"red\",\"pink\",\"cyan\",\"light green\",\"blue\")\n",
    "for i in range(150):\n",
    "    t.pencolor(col[i%6])\n",
    "    t.circle(190-i/2,90)\n",
    "    t.lt(90)\n",
    "    t.circle(190-i/3,90)\n",
    "    t.lt(60)\n",
    "s.exitonclick() "
   ]
  }
 ],
 "metadata": {
  "kernelspec": {
   "display_name": "Python 3.10.7 64-bit",
   "language": "python",
   "name": "python3"
  },
  "language_info": {
   "codemirror_mode": {
    "name": "ipython",
    "version": 3
   },
   "file_extension": ".py",
   "mimetype": "text/x-python",
   "name": "python",
   "nbconvert_exporter": "python",
   "pygments_lexer": "ipython3",
   "version": "3.10.7"
  },
  "vscode": {
   "interpreter": {
    "hash": "97cc609b13305c559618ec78a438abc56230b9381f827f22d070313b9a1f3777"
   }
  }
 },
 "nbformat": 4,
 "nbformat_minor": 5
}
