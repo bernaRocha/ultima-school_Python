{
 "cells": [
  {
   "cell_type": "code",
   "execution_count": 4,
   "id": "47c77371",
   "metadata": {
    "scrolled": true
   },
   "outputs": [],
   "source": [
    "import turtle\n",
    "t = turtle.Turtle()\n",
    "s = turtle.Screen()\n",
    "s.bgcolor('black')\n",
    "t.pencolor('red')\n",
    "t.speed(0)\n",
    "for i in range(150):\n",
    "    t.circle(190 - 1, 90)\n",
    "    t.lt(98)\n",
    "    t.circle(190 - 1, 90)\n",
    "    t.lt(18)\n"
   ]
  },
  {
   "cell_type": "code",
   "execution_count": null,
   "id": "3cb72884",
   "metadata": {},
   "outputs": [],
   "source": []
  }
 ],
 "metadata": {
  "kernelspec": {
   "display_name": "Python 3 (ipykernel)",
   "language": "python",
   "name": "python3"
  },
  "language_info": {
   "codemirror_mode": {
    "name": "ipython",
    "version": 3
   },
   "file_extension": ".py",
   "mimetype": "text/x-python",
   "name": "python",
   "nbconvert_exporter": "python",
   "pygments_lexer": "ipython3",
   "version": "3.8.10"
  }
 },
 "nbformat": 4,
 "nbformat_minor": 5
}
