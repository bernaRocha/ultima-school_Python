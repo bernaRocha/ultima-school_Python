{
 "cells": [
  {
   "cell_type": "code",
   "execution_count": 2,
   "metadata": {},
   "outputs": [
    {
     "name": "stdout",
     "output_type": "stream",
     "text": [
      "Criando tela\n",
      "Escolha um ângulo: 40\n",
      "Começando a desenhar\n",
      "FIM\n"
     ]
    },
    {
     "ename": "Terminator",
     "evalue": "",
     "output_type": "error",
     "traceback": [
      "\u001b[0;31m---------------------------------------------------------------------------\u001b[0m",
      "\u001b[0;31mTerminator\u001b[0m                                Traceback (most recent call last)",
      "Input \u001b[0;32mIn [2]\u001b[0m, in \u001b[0;36m<cell line: 30>\u001b[0;34m()\u001b[0m\n\u001b[1;32m     28\u001b[0m \u001b[38;5;28mprint\u001b[39m(\u001b[38;5;124m'\u001b[39m\u001b[38;5;124mFIM\u001b[39m\u001b[38;5;124m'\u001b[39m)\n\u001b[1;32m     29\u001b[0m turtle\u001b[38;5;241m.\u001b[39mdone()\n\u001b[0;32m---> 30\u001b[0m \u001b[43mturtle\u001b[49m\u001b[38;5;241;43m.\u001b[39;49m\u001b[43mexitonclick\u001b[49m\u001b[43m(\u001b[49m\u001b[43m)\u001b[49m\n",
      "File \u001b[0;32m<string>:5\u001b[0m, in \u001b[0;36mexitonclick\u001b[0;34m()\u001b[0m\n",
      "\u001b[0;31mTerminator\u001b[0m: "
     ]
    }
   ],
   "source": [
    "import turtle\n",
    "from random import randint\n",
    "def input_angulo():\n",
    "    mensagem = 'Escolha um ângulo: '\n",
    "    valor_string = input(mensagem)\n",
    "    while not valor_string.isnumeric():\n",
    "        print('O valor deve ser um número inteiro!')\n",
    "        valor_string = input(mensagem)\n",
    "    return int(valor_string)\n",
    "def gera_cor_aleatoria():\n",
    "    r = randint(0, 255)\n",
    "    g = randint(0, 255)\n",
    "    b = randint(0, 255)\n",
    "    return r, g, b\n",
    "print('Criando tela')\n",
    "turtle.title('Padrão colorido')\n",
    "turtle.setup(640, 600)\n",
    "turtle.hideturtle()\n",
    "turtle.bgcolor('#262626')\n",
    "turtle.colormode(255)\n",
    "turtle.speed(10)\n",
    "angulo = input_angulo()\n",
    "print('Começando a desenhar')\n",
    "for i in range(0 ,200):\n",
    "    turtle.color(gera_cor_aleatoria())\n",
    "    turtle.forward(i)\n",
    "    turtle.right(angulo)\n",
    "print('FIM')\n",
    "turtle.done()\n",
    "turtle.exitonclick()"
   ]
  },
  {
   "cell_type": "code",
   "execution_count": null,
   "metadata": {},
   "outputs": [],
   "source": []
  }
 ],
 "metadata": {
  "kernelspec": {
   "display_name": "Python 3 (ipykernel)",
   "language": "python",
   "name": "python3"
  },
  "language_info": {
   "codemirror_mode": {
    "name": "ipython",
    "version": 3
   },
   "file_extension": ".py",
   "mimetype": "text/x-python",
   "name": "python",
   "nbconvert_exporter": "python",
   "pygments_lexer": "ipython3",
   "version": "3.8.10"
  },
  "vscode": {
   "interpreter": {
    "hash": "6fe396c9b8466b1501e1ba76770a1d6f75c8f839254adebd39c08b62cf684741"
   }
  }
 },
 "nbformat": 4,
 "nbformat_minor": 2
}
