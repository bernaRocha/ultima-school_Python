{
 "cells": [
  {
   "cell_type": "markdown",
   "metadata": {
    "id": "n9tALs4xVhkB"
   },
   "source": [
    "# **Introdução**"
   ]
  },
  {
   "cell_type": "markdown",
   "metadata": {
    "id": "Qksfq4rWV923"
   },
   "source": [
    "O objetivo desse projeto é de apresentar os comandos básicos de Python para aplicar em análise de dados."
   ]
  },
  {
   "cell_type": "code",
   "execution_count": null,
   "metadata": {
    "id": "BogCAZHYV85o"
   },
   "outputs": [],
   "source": [
    "print (\"Olá Mundo\")"
   ]
  },
  {
   "cell_type": "code",
   "execution_count": null,
   "metadata": {
    "id": "Jibm2nlUVSzS"
   },
   "outputs": [],
   "source": [
    "mensagem = 'Olá Mundo'"
   ]
  },
  {
   "cell_type": "code",
   "execution_count": null,
   "metadata": {
    "id": "vQVlCNGWzmuI"
   },
   "outputs": [],
   "source": [
    "print (mensagem)"
   ]
  },
  {
   "cell_type": "code",
   "execution_count": null,
   "metadata": {
    "id": "tAT8jp7Hzrkm"
   },
   "outputs": [],
   "source": [
    "mensagem"
   ]
  },
  {
   "cell_type": "code",
   "execution_count": null,
   "metadata": {
    "id": "EI1oXGPrz7c1"
   },
   "outputs": [],
   "source": [
    "nome = input ('Qual é o seu nome?')"
   ]
  },
  {
   "cell_type": "code",
   "execution_count": null,
   "metadata": {
    "id": "20O5jaIm0Cxd"
   },
   "outputs": [],
   "source": [
    "print ('Meu nome é:',  nome)"
   ]
  },
  {
   "cell_type": "code",
   "execution_count": null,
   "metadata": {
    "id": "QF76W7O60I18"
   },
   "outputs": [],
   "source": [
    "nome = input ('Qual é o seu nome?')\n",
    "print ('Meu nome é:',  nome)\n"
   ]
  },
  {
   "cell_type": "markdown",
   "metadata": {
    "id": "WMGU7gLp2_WF"
   },
   "source": [
    "# **Operadores Matemáticos**"
   ]
  },
  {
   "cell_type": "code",
   "execution_count": null,
   "metadata": {
    "id": "M7zzp5GP0b_s"
   },
   "outputs": [],
   "source": [
    "n1 = 7"
   ]
  },
  {
   "cell_type": "code",
   "execution_count": null,
   "metadata": {
    "id": "EZ5RvZX20ebb"
   },
   "outputs": [],
   "source": [
    "n2 = 2"
   ]
  },
  {
   "cell_type": "code",
   "execution_count": null,
   "metadata": {
    "id": "6qrwoXGY0gqb"
   },
   "outputs": [],
   "source": [
    "s = n1 + n2\n",
    "print(s)"
   ]
  },
  {
   "cell_type": "code",
   "execution_count": null,
   "metadata": {
    "id": "khdn_IM50nmk"
   },
   "outputs": [],
   "source": [
    "s = s + n2\n",
    "print (s)"
   ]
  },
  {
   "cell_type": "code",
   "execution_count": null,
   "metadata": {
    "id": "hCTXtBmy1Cn7"
   },
   "outputs": [],
   "source": [
    "s += n2\n",
    "print(s)"
   ]
  },
  {
   "cell_type": "code",
   "execution_count": null,
   "metadata": {
    "id": "UQc8-Hgb19Lj"
   },
   "outputs": [],
   "source": [
    "sub = n1 - n2\n",
    "sub"
   ]
  },
  {
   "cell_type": "code",
   "execution_count": null,
   "metadata": {
    "id": "qLrm9drE2BeX"
   },
   "outputs": [],
   "source": [
    "mult = n1 * n2\n",
    "mult"
   ]
  },
  {
   "cell_type": "code",
   "execution_count": null,
   "metadata": {
    "id": "X7aZTJnZ2I7f"
   },
   "outputs": [],
   "source": [
    "div = n1 / n2\n",
    "div"
   ]
  },
  {
   "cell_type": "code",
   "execution_count": null,
   "metadata": {
    "id": "aW1YPskE2OCR"
   },
   "outputs": [],
   "source": [
    "pot = n1**n2\n",
    "pot"
   ]
  },
  {
   "cell_type": "code",
   "execution_count": null,
   "metadata": {
    "id": "JV1zTdU82aju"
   },
   "outputs": [],
   "source": [
    "pot2 = pow (n1,n2)\n",
    "pot2"
   ]
  },
  {
   "cell_type": "code",
   "execution_count": null,
   "metadata": {
    "id": "wTYY_sXw2Ri3"
   },
   "outputs": [],
   "source": [
    "divi = n1 // n2\n",
    "divi"
   ]
  },
  {
   "cell_type": "code",
   "execution_count": null,
   "metadata": {
    "id": "q7DPBYvy2WPe"
   },
   "outputs": [],
   "source": [
    "rest = n1 % n2\n",
    "rest"
   ]
  },
  {
   "cell_type": "markdown",
   "metadata": {
    "id": "D9dOFbLX59pv"
   },
   "source": [
    "# **Importações de bibliotecas, pacotes e módulos**"
   ]
  },
  {
   "cell_type": "code",
   "execution_count": null,
   "metadata": {
    "id": "5cO9u1vDuwFq"
   },
   "outputs": [],
   "source": [
    "raiz_quadrada = sqrt (25)"
   ]
  },
  {
   "cell_type": "code",
   "execution_count": null,
   "metadata": {
    "id": "GARWqy2l3RIs"
   },
   "outputs": [],
   "source": [
    "import math\n"
   ]
  },
  {
   "cell_type": "code",
   "execution_count": null,
   "metadata": {
    "id": "k4yJzVR0yejC"
   },
   "outputs": [],
   "source": [
    "math."
   ]
  },
  {
   "cell_type": "code",
   "execution_count": null,
   "metadata": {
    "id": "-zEt18Gi3zDH"
   },
   "outputs": [],
   "source": [
    "n = 18"
   ]
  },
  {
   "cell_type": "code",
   "execution_count": null,
   "metadata": {
    "id": "hJVBJ7LE3wZL"
   },
   "outputs": [],
   "source": [
    "raiz = math.sqrt(n)\n",
    "print ('A raiz de {} é igual a {:.2f}'.format (n, raiz))"
   ]
  },
  {
   "cell_type": "code",
   "execution_count": null,
   "metadata": {
    "id": "dWDNjAQIECyI"
   },
   "outputs": [],
   "source": [
    "print(raiz)"
   ]
  },
  {
   "cell_type": "code",
   "execution_count": null,
   "metadata": {
    "id": "hFwB1fmz4RbL"
   },
   "outputs": [],
   "source": [
    "raiz2 = n ** 0.5\n",
    "print (raiz2)"
   ]
  },
  {
   "cell_type": "code",
   "execution_count": null,
   "metadata": {
    "id": "5Y4ovCja5H3Y"
   },
   "outputs": [],
   "source": [
    "print ('{:.3f}'.format(raiz2))"
   ]
  },
  {
   "cell_type": "code",
   "execution_count": null,
   "metadata": {
    "id": "WsMSOqQr5v-9"
   },
   "outputs": [],
   "source": [
    "from math import sqrt\n",
    "raiz3=sqrt(n)\n",
    "print ('{:.2f}'.format(raiz3))"
   ]
  },
  {
   "cell_type": "code",
   "execution_count": null,
   "metadata": {
    "id": "vL_3azbqvI86"
   },
   "outputs": [],
   "source": [
    "from math import sqrt, factorial"
   ]
  },
  {
   "cell_type": "code",
   "execution_count": null,
   "metadata": {
    "id": "8TK6aLcovYf_"
   },
   "outputs": [],
   "source": [
    "fat = factorial(5)       # fatorial: 4! = 4.3.2 = 24\n",
    "                         #           5! = 5.4.3.2 = 120\n",
    "fat"
   ]
  },
  {
   "cell_type": "code",
   "execution_count": null,
   "metadata": {
    "id": "sVU44zJhwtF1"
   },
   "outputs": [],
   "source": [
    "fatorial_raiz = factorial(sqrt(16))\n",
    "fatorial_raiz"
   ]
  },
  {
   "cell_type": "code",
   "execution_count": null,
   "metadata": {
    "id": "Pk8d40wE562N"
   },
   "outputs": [],
   "source": [
    "import random\n",
    "num = random.randint (1,10)\n",
    "print (num)"
   ]
  },
  {
   "cell_type": "code",
   "execution_count": null,
   "metadata": {
    "id": "foLfjcEZ88LK"
   },
   "outputs": [],
   "source": [
    "random."
   ]
  },
  {
   "cell_type": "code",
   "execution_count": null,
   "metadata": {
    "id": "N6K3ZTUq9EcH"
   },
   "outputs": [],
   "source": [
    "from random import random, randint"
   ]
  },
  {
   "cell_type": "code",
   "execution_count": null,
   "metadata": {
    "id": "7gDnh7Sv-GOL"
   },
   "outputs": [],
   "source": [
    "random?"
   ]
  },
  {
   "cell_type": "code",
   "execution_count": null,
   "metadata": {
    "id": "n69KJ82G-qLk"
   },
   "outputs": [],
   "source": [
    "randint?"
   ]
  },
  {
   "cell_type": "code",
   "execution_count": null,
   "metadata": {
    "id": "Qn6p4XLt9MiI"
   },
   "outputs": [],
   "source": [
    "num2 = random()\n",
    "num2"
   ]
  },
  {
   "cell_type": "markdown",
   "metadata": {
    "id": "S0D7LUH87yT_"
   },
   "source": [
    "# **Estrutura condicional**"
   ]
  },
  {
   "cell_type": "markdown",
   "metadata": {
    "id": "1z1BpFdSoEP3"
   },
   "source": [
    "if        \n",
    "else        \n",
    "elif"
   ]
  },
  {
   "cell_type": "code",
   "execution_count": null,
   "metadata": {
    "id": "PscLlibJ8A-P"
   },
   "outputs": [],
   "source": [
    "nota = 5"
   ]
  },
  {
   "cell_type": "code",
   "execution_count": null,
   "metadata": {
    "id": "m9O23T6U7VaB"
   },
   "outputs": [],
   "source": [
    "if nota >= 6:\n",
    "    print('Aprovado')\n",
    "else:\n",
    "    print('Reprovado')"
   ]
  },
  {
   "cell_type": "code",
   "execution_count": null,
   "metadata": {
    "id": "8phBT3oh8b25"
   },
   "outputs": [],
   "source": [
    "if nota >= 6:\n",
    "    print('Aprovado')\n",
    "elif nota >= 5 and nota< 6:\n",
    "    print('Recuperação')\n",
    "else:\n",
    "    print('Reprovado')"
   ]
  },
  {
   "cell_type": "markdown",
   "metadata": {
    "id": "zYMDxIsTog20"
   },
   "source": [
    "# **Estrutura de Repetição**"
   ]
  },
  {
   "cell_type": "markdown",
   "metadata": {
    "id": "6UzQZL5JoqSM"
   },
   "source": [
    "for    \n",
    "while    \n"
   ]
  },
  {
   "cell_type": "code",
   "execution_count": null,
   "metadata": {
    "id": "H-m31UA8ovSt"
   },
   "outputs": [],
   "source": [
    "for c in range(0,4):\n",
    "    print(c)"
   ]
  },
  {
   "cell_type": "code",
   "execution_count": null,
   "metadata": {
    "id": "qLzFKC2-txnH"
   },
   "outputs": [],
   "source": [
    "lista = [1, 2, 3, 4, 10]\n",
    "for numero in lista:\n",
    "  mult = numero * 2\n",
    "  print(mult)"
   ]
  },
  {
   "cell_type": "code",
   "execution_count": null,
   "metadata": {
    "id": "JfN3HtEisED1"
   },
   "outputs": [],
   "source": [
    "soma = 0\n",
    "cont = 0\n",
    "for c in range (1, 6):\n",
    "    num = int(input('digite o {}o valor: '.format(c)))\n",
    "    if num % 2 == 0:\n",
    "        soma = soma + num \n",
    "        cont = cont + 1\n",
    "print('Você informou {} números pares e a soma deles é igual a {}'.format(cont, soma))"
   ]
  },
  {
   "cell_type": "code",
   "execution_count": null,
   "metadata": {
    "id": "zEhnKG1aq_nM"
   },
   "outputs": [],
   "source": [
    "c = 1\n",
    "while c <= 10:\n",
    "    s = c + 10\n",
    "    print(s)\n",
    "    c = c + 1\n",
    "print('FIM')"
   ]
  },
  {
   "cell_type": "markdown",
   "metadata": {
    "id": "zsJIT1D5u_fc"
   },
   "source": [
    "# **Listas, Tuplas e Dicionários**"
   ]
  },
  {
   "cell_type": "markdown",
   "metadata": {
    "id": "SdbTnj1KvM3b"
   },
   "source": [
    "Listas [ ]      \n",
    "Tuplas ( )     \n",
    "Dicionários { }     "
   ]
  },
  {
   "cell_type": "markdown",
   "metadata": {
    "id": "wSQTmCVWx3_O"
   },
   "source": [
    "**LISTAS**"
   ]
  },
  {
   "cell_type": "code",
   "execution_count": null,
   "metadata": {
    "id": "HnYMCqQuvkr8"
   },
   "outputs": [],
   "source": [
    "num = [2, 5, 7, 9]"
   ]
  },
  {
   "cell_type": "code",
   "execution_count": null,
   "metadata": {
    "id": "SDBxexK3vq7B"
   },
   "outputs": [],
   "source": [
    "num[3] = 4   # no lugar do elemento na posição 3 (número 9) vai ser colocado o número 4"
   ]
  },
  {
   "cell_type": "code",
   "execution_count": null,
   "metadata": {
    "id": "kfkiZ9suwE3I"
   },
   "outputs": [],
   "source": [
    "num"
   ]
  },
  {
   "cell_type": "code",
   "execution_count": null,
   "metadata": {
    "id": "JzL0DiSOwLdg"
   },
   "outputs": [],
   "source": [
    "num.append(8) #inclui o número 8\n",
    "num"
   ]
  },
  {
   "cell_type": "code",
   "execution_count": null,
   "metadata": {
    "id": "1KbNaG8OwhjC"
   },
   "outputs": [],
   "source": [
    "num.sort() #coloca em ordem crescente\n",
    "num"
   ]
  },
  {
   "cell_type": "code",
   "execution_count": null,
   "metadata": {
    "id": "fo4dZTcFw2z1"
   },
   "outputs": [],
   "source": [
    "num.insert(2, 0) # adiciona o zero na posição 2\n",
    "num"
   ]
  },
  {
   "cell_type": "code",
   "execution_count": null,
   "metadata": {
    "id": "2wim84P4xEkd"
   },
   "outputs": [],
   "source": [
    "num.remove(7) #remove o elemento 7\n",
    "num"
   ]
  },
  {
   "cell_type": "code",
   "execution_count": null,
   "metadata": {
    "id": "9HXeuBChxeb0"
   },
   "outputs": [],
   "source": [
    "num.pop(3) #remove o elemento na posição 3\n",
    "num"
   ]
  },
  {
   "cell_type": "markdown",
   "metadata": {
    "id": "UZ7wtvhjywTz"
   },
   "source": [
    "**TUPLAS**"
   ]
  },
  {
   "cell_type": "markdown",
   "metadata": {
    "id": "dEFU0DGDgEwz"
   },
   "source": [
    "Tupla é imutável."
   ]
  },
  {
   "cell_type": "code",
   "execution_count": null,
   "metadata": {
    "id": "gydwsEq-xyvM"
   },
   "outputs": [],
   "source": [
    "num2 = (2, 5, 7, 9)"
   ]
  },
  {
   "cell_type": "code",
   "execution_count": null,
   "metadata": {
    "id": "wZ0CZ4wtyBhz"
   },
   "outputs": [],
   "source": [
    "num2[3] = 4 "
   ]
  },
  {
   "cell_type": "code",
   "execution_count": null,
   "metadata": {
    "id": "q1Rlip6SycjK"
   },
   "outputs": [],
   "source": [
    "num2.append(8) #inclui o número 8\n",
    "num2"
   ]
  },
  {
   "cell_type": "markdown",
   "metadata": {
    "id": "Nayqp9rby0kZ"
   },
   "source": [
    "**DICIONÁRIOS**"
   ]
  },
  {
   "cell_type": "code",
   "execution_count": null,
   "metadata": {
    "id": "YaEdF0kly9FQ"
   },
   "outputs": [],
   "source": [
    "pessoas = {'nome': 'Luciano', 'sexo': 'masculino', 'idade': 46}  # número não coloca aspas\n",
    "print (pessoas)"
   ]
  },
  {
   "cell_type": "code",
   "execution_count": null,
   "metadata": {
    "id": "iVQVWZkXz-OH"
   },
   "outputs": [],
   "source": [
    "pessoas['time'] = 'Corinthians'\n",
    "print(pessoas)"
   ]
  },
  {
   "cell_type": "code",
   "execution_count": null,
   "metadata": {
    "id": "Ma9cXRzi16BT"
   },
   "outputs": [],
   "source": [
    "del pessoas['idade']\n",
    "print(pessoas)"
   ]
  },
  {
   "cell_type": "markdown",
   "metadata": {
    "id": "ZIFE-DwhkB_K"
   },
   "source": [
    "# **Funções**"
   ]
  },
  {
   "cell_type": "code",
   "execution_count": null,
   "metadata": {
    "id": "dRcIq_-nkKEh"
   },
   "outputs": [],
   "source": [
    "def identificacao(nome,idade):\n",
    "   print('Olá',nome,'\\nVocê é jovem, tem apenas',idade, 'anos')"
   ]
  },
  {
   "cell_type": "code",
   "execution_count": null,
   "metadata": {
    "id": "le4TCLqUk-5g"
   },
   "outputs": [],
   "source": [
    "identificacao('Luciano', 46)"
   ]
  },
  {
   "cell_type": "code",
   "execution_count": null,
   "metadata": {
    "id": "qJWNKw8nlg82"
   },
   "outputs": [],
   "source": [
    "def maior (x,y):\n",
    "  if x < y:\n",
    "    print ('O maior número é', y)\n",
    "  elif x == y:\n",
    "    print ('Os números são iguais')\n",
    "  else:\n",
    "    print ('O maior número é', x)"
   ]
  },
  {
   "cell_type": "code",
   "execution_count": null,
   "metadata": {
    "id": "QBXbsMyJmQzm"
   },
   "outputs": [],
   "source": [
    "maior (11,16)"
   ]
  },
  {
   "cell_type": "code",
   "execution_count": null,
   "metadata": {
    "id": "AH4rNn6dmrdl"
   },
   "outputs": [],
   "source": [
    "def pitagoras (cat1, cat2, hip):\n",
    "  if hip == '?':\n",
    "    hip = (cat1**2+cat2**2)**(1/2)\n",
    "    print ('A hipotenusa é', hip)\n",
    "  elif cat1 == '?':\n",
    "    cat1 = (hip**2-cat2**2)**(1/2)\n",
    "    print ('O cateto é', cat1)\n",
    "  elif cat2 == '?':\n",
    "    cat2 = (hip**2-cat1**2)**(1/2)\n",
    "    print ('O cateto é', cat2)"
   ]
  },
  {
   "cell_type": "code",
   "execution_count": null,
   "metadata": {
    "id": "AdqHm9aWnF-T"
   },
   "outputs": [],
   "source": [
    "pitagoras (13,5,'?')"
   ]
  },
  {
   "cell_type": "markdown",
   "metadata": {
    "id": "Wbpjrij0Q6Il"
   },
   "source": [
    "## **Função lambda e map**"
   ]
  },
  {
   "cell_type": "markdown",
   "metadata": {
    "id": "5CuPklGeX2RJ"
   },
   "source": [
    "Forma simplificada de escrever funções"
   ]
  },
  {
   "cell_type": "code",
   "execution_count": null,
   "metadata": {
    "id": "LqflbOryRCJt"
   },
   "outputs": [],
   "source": [
    "def area_quadrado (L):\n",
    "  area = L**2\n",
    "  print(area)"
   ]
  },
  {
   "cell_type": "code",
   "execution_count": null,
   "metadata": {
    "colab": {
     "base_uri": "https://localhost:8080/"
    },
    "id": "gTUKwLKPRWfs",
    "outputId": "9644c6c7-5ba7-4ffc-a0fe-c47184b8cf17"
   },
   "outputs": [],
   "source": [
    "area_quadrado(4)"
   ]
  },
  {
   "cell_type": "code",
   "execution_count": null,
   "metadata": {
    "id": "HgWm3A8FRe4r"
   },
   "outputs": [],
   "source": [
    "area_quadrado2 = lambda x: x**2"
   ]
  },
  {
   "cell_type": "code",
   "execution_count": null,
   "metadata": {
    "colab": {
     "base_uri": "https://localhost:8080/"
    },
    "id": "q7k3w49zWHBb",
    "outputId": "fb22c36b-81ae-4d15-8590-7e24f25e8af7"
   },
   "outputs": [],
   "source": [
    "area_quadrado2(7)"
   ]
  },
  {
   "cell_type": "code",
   "execution_count": null,
   "metadata": {
    "id": "fYePyGQiWx9N"
   },
   "outputs": [],
   "source": [
    "area_retangulo = lambda b, h: b*h"
   ]
  },
  {
   "cell_type": "code",
   "execution_count": null,
   "metadata": {
    "colab": {
     "base_uri": "https://localhost:8080/"
    },
    "id": "zRPIrrLCXHK7",
    "outputId": "bd03f177-75f6-4d27-b9a5-e897761c3e16"
   },
   "outputs": [],
   "source": [
    "area_retangulo(4,7)"
   ]
  },
  {
   "cell_type": "code",
   "execution_count": null,
   "metadata": {
    "colab": {
     "base_uri": "https://localhost:8080/"
    },
    "id": "T7Fy6q5YSiXS",
    "outputId": "50b1cc14-ad90-44ab-c911-52753557b592"
   },
   "outputs": [],
   "source": [
    "# Uma vantagem é quando se utiliza juntamente com outros métodos\n",
    "L = [4,5,6,7,11,9,10]\n",
    "areas = list(map(lambda x: x**2, L))\n",
    "print(areas)"
   ]
  },
  {
   "cell_type": "markdown",
   "metadata": {
    "id": "0qqrF6eUXrE4"
   },
   "source": [
    "# **List Comprehensions**"
   ]
  },
  {
   "cell_type": "markdown",
   "metadata": {
    "id": "h8_IZl4BYSgG"
   },
   "source": [
    "Otimiza a utilização de listas e diminui linhas de código"
   ]
  },
  {
   "cell_type": "code",
   "execution_count": null,
   "metadata": {
    "id": "e_i-0-4aYR0m"
   },
   "outputs": [],
   "source": [
    "lista=[]\n",
    "for valor in range(5):\n",
    "  lista.append(valor+10)\n",
    "print(lista)\n"
   ]
  },
  {
   "cell_type": "code",
   "execution_count": null,
   "metadata": {
    "id": "uThJIVObXpeR"
   },
   "outputs": [],
   "source": [
    "lista = [valor+10 for valor in range(5)]\n",
    "print(lista)\n"
   ]
  },
  {
   "cell_type": "code",
   "execution_count": null,
   "metadata": {
    "id": "gmq6W-Fjarvf"
   },
   "outputs": [],
   "source": [
    "lista = []\n",
    "for numero in range (1,30):\n",
    "  if numero % 4 == 0:\n",
    "    lista.append(numero)\n",
    "print(lista)\n"
   ]
  },
  {
   "cell_type": "code",
   "execution_count": null,
   "metadata": {
    "id": "se6DeQZKZ6HJ"
   },
   "outputs": [],
   "source": [
    "multiplos4 = [numero for numero in range(1,30) if numero % 4 == 0]\n",
    "print(multiplos4)\n"
   ]
  },
  {
   "cell_type": "code",
   "execution_count": null,
   "metadata": {
    "id": "Fi5Hes3ebvVN"
   },
   "outputs": [],
   "source": [
    "conceito = ['azul' if nota >= 6 else 'vermelha' for nota in range(1,11)]\n",
    "print(conceito)"
   ]
  },
  {
   "cell_type": "markdown",
   "metadata": {
    "id": "uxCpeYoKDdd9"
   },
   "source": [
    "# **Vetores (arrays) e matrizes**"
   ]
  },
  {
   "cell_type": "markdown",
   "metadata": {
    "id": "RvI6SyjG5zjX"
   },
   "source": [
    "Matriz   \n",
    "1    3    5    7   \n",
    "2    4    6    8   \n",
    "0    1    2    3   \n",
    "\n",
    "Vetor   \n",
    "5  10  15  20   \n",
    "ou   \n",
    "3   \n",
    "4   \n",
    "5   \n",
    "6   "
   ]
  },
  {
   "cell_type": "code",
   "execution_count": null,
   "metadata": {
    "id": "TAWr5vcXE3Ri"
   },
   "outputs": [],
   "source": [
    "vetor = [2,4,5,6]"
   ]
  },
  {
   "cell_type": "code",
   "execution_count": null,
   "metadata": {
    "id": "wTr4TDHhE7gq"
   },
   "outputs": [],
   "source": [
    "type(vetor)"
   ]
  },
  {
   "cell_type": "code",
   "execution_count": null,
   "metadata": {
    "id": "nPPcWhIjG4YP"
   },
   "outputs": [],
   "source": [
    "matriz = [[1,2,3],\n",
    "          [4,5,6],\n",
    "          [7,8,9]]"
   ]
  },
  {
   "cell_type": "code",
   "execution_count": null,
   "metadata": {
    "id": "ff6UObFAHAcs"
   },
   "outputs": [],
   "source": [
    "type(matriz)"
   ]
  },
  {
   "cell_type": "code",
   "execution_count": null,
   "metadata": {
    "id": "PlJvmdwnKbkN"
   },
   "outputs": [],
   "source": [
    "print(matriz)"
   ]
  },
  {
   "cell_type": "code",
   "execution_count": null,
   "metadata": {
    "id": "L3C192qbB4sR"
   },
   "outputs": [],
   "source": [
    "import numpy as np"
   ]
  },
  {
   "cell_type": "code",
   "execution_count": null,
   "metadata": {
    "id": "_xDT0MeaDuAW"
   },
   "outputs": [],
   "source": [
    "vetor2 = np.array([1, -3, 4.2, 5])"
   ]
  },
  {
   "cell_type": "code",
   "execution_count": null,
   "metadata": {
    "id": "ED19yxFZE0PE"
   },
   "outputs": [],
   "source": [
    "type(vetor2)"
   ]
  },
  {
   "cell_type": "code",
   "execution_count": null,
   "metadata": {
    "id": "ipy3TrhoJLKT"
   },
   "outputs": [],
   "source": [
    "print (vetor2)"
   ]
  },
  {
   "cell_type": "code",
   "execution_count": null,
   "metadata": {
    "id": "r9Lsxs2YCHP0"
   },
   "outputs": [],
   "source": [
    "matriz2 = np.ones((2,3))\n",
    "matriz2"
   ]
  },
  {
   "cell_type": "code",
   "execution_count": null,
   "metadata": {
    "id": "CBTQ5_IHKK9G"
   },
   "outputs": [],
   "source": [
    "type(matriz2)"
   ]
  },
  {
   "cell_type": "code",
   "execution_count": null,
   "metadata": {
    "id": "Bx_SfghTCYZC"
   },
   "outputs": [],
   "source": [
    "matriz3 = np.diag((2,4,6,8,10))\n",
    "matriz3"
   ]
  },
  {
   "cell_type": "code",
   "execution_count": null,
   "metadata": {
    "id": "ULocEupzEaNU"
   },
   "outputs": [],
   "source": [
    "type(matriz3)"
   ]
  }
 ],
 "metadata": {
  "colab": {
   "name": "conceitos_python.ipynb",
   "provenance": []
  },
  "kernelspec": {
   "display_name": "Python 3.10.7 64-bit",
   "language": "python",
   "name": "python3"
  },
  "language_info": {
   "codemirror_mode": {
    "name": "ipython",
    "version": 3
   },
   "file_extension": ".py",
   "mimetype": "text/x-python",
   "name": "python",
   "nbconvert_exporter": "python",
   "pygments_lexer": "ipython3",
   "version": "3.10.7"
  },
  "vscode": {
   "interpreter": {
    "hash": "97cc609b13305c559618ec78a438abc56230b9381f827f22d070313b9a1f3777"
   }
  }
 },
 "nbformat": 4,
 "nbformat_minor": 1
}
